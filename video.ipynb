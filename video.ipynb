{
 "cells": [
  {
   "cell_type": "code",
   "execution_count": 4,
   "metadata": {},
   "outputs": [],
   "source": [
    "import pandas as pd \n",
    "import numpy as np\n",
    "import cv2\n",
    "from sklearn.ensemble import RandomForestClassifier as RFC"
   ]
  },
  {
   "cell_type": "code",
   "execution_count": 2,
   "metadata": {},
   "outputs": [],
   "source": [
    "def sift_features(images):\n",
    "    sift_vectors = {}\n",
    "    descriptor_list = []\n",
    "    sift = cv2.SIFT_create()\n",
    "    for key,value in images.items():\n",
    "        features = []\n",
    "        for img in value:\n",
    "            kp, des = sift.detectAndCompute(img,None)\n",
    "           \n",
    "            \n",
    "            descriptor_list.extend(des)\n",
    "            features.append(des)\n",
    "        sift_vectors[key] = features\n",
    "    return [descriptor_list, sift_vectors]\n",
    "\n",
    "def find_index(feature, centers):\n",
    "    return np.argmin(np.sum((centers - feature) **2, axis = 1))\n",
    "\n",
    "centers = np.load('centers.npy')"
   ]
  },
  {
   "cell_type": "code",
   "execution_count": 5,
   "metadata": {},
   "outputs": [],
   "source": [
    "data = pd.read_csv('train.csv')\n",
    "data.drop(columns='Unnamed: 0',inplace = True)\n",
    "X = np.array(data.iloc[:,:-1])\n",
    "y = np.array(data['y'])\n",
    "model = RFC()\n",
    "model.fit(X, y)\n",
    "\n",
    "marker = cv2.imread('marker.jpg')\n",
    "marker = cv2.resize(marker, (960, 1280))\n",
    "repl = cv2.imread('repl.jpg')\n",
    "repl = cv2.resize(repl, (960, 1280))"
   ]
  },
  {
   "cell_type": "code",
   "execution_count": 15,
   "metadata": {},
   "outputs": [],
   "source": [
    "sift = cv2.SIFT_create()\n",
    "kp_marker, des_marker = sift.detectAndCompute(marker, None)\n",
    "\n",
    "cap = cv2.VideoCapture('video.mp4')\n",
    "\n",
    "width = 960\n",
    "height = 1280\n",
    "\n",
    "fourcc = cv2.VideoWriter_fourcc(*'mp4v')\n",
    "CADR_PER_SEC = 24\n",
    "MIN_MATCH_COUNT = 10\n",
    "out = cv2.VideoWriter('result.mp4', fourcc, CADR_PER_SEC,  (width, height))"
   ]
  },
  {
   "cell_type": "code",
   "execution_count": 16,
   "metadata": {},
   "outputs": [],
   "source": [
    "while cap.isOpened():\n",
    "    ret, frame = cap.read()\n",
    "    if ret == True:\n",
    "        iter+=1\n",
    "        frame = cv2.resize(frame,(960, 1280))\n",
    "        frame_t = cv2.cvtColor(frame, cv2.COLOR_BGR2GRAY)\n",
    "        kp, des = sift.detectAndCompute(frame_t,None)\n",
    "        histogram = np.zeros(len(centers))\n",
    "        res = 2\n",
    "        if des is not None:\n",
    "            for each_feature in des:\n",
    "                     ind = find_index(each_feature, centers)\n",
    "                     histogram[ind] += 1\n",
    "            #print(histogram)\n",
    "            res = model.predict(histogram.reshape(1, -1))[0]\n",
    "        if res == 1:\n",
    "            bf = cv2.BFMatcher()\n",
    "            matches = bf.knnMatch(des_marker, des, k=2)\n",
    "    \n",
    "            good = []\n",
    "            for m, n in matches:\n",
    "                if m.distance / n.distance <= 0.8:\n",
    "                    good.append(m)\n",
    "\n",
    "            if len(good)>=MIN_MATCH_COUNT:\n",
    "                src_pts = np.float32([ kp_marker[m.queryIdx].pt for m in good ]).reshape(-1,1,2)\n",
    "                dst_pts = np.float32([ kp[m.trainIdx].pt for m in good ]).reshape(-1,1,2)\n",
    "\n",
    "                M, mask = cv2.findHomography(src_pts, dst_pts, cv2.RANSAC,5.0)\n",
    "\n",
    "                h,w,_ = marker.shape\n",
    "                pts = np.float32([ [0,0],[0,h-1],[w-1,h-1],[w-1,0] ]).reshape(-1,1,2)\n",
    "                dst = cv2.perspectiveTransform(pts,M)\n",
    "                \n",
    "                result = cv2.warpPerspective(repl, M, (repl.shape[1], repl.shape[0]))\n",
    "\n",
    "                img2gray = cv2.cvtColor(result, cv2.COLOR_BGR2GRAY)\n",
    "                ret, mask = cv2.threshold(img2gray, 10, 255, cv2.THRESH_BINARY)\n",
    "                mask_inv = cv2.bitwise_not(mask)\n",
    "                img1_bg = cv2.bitwise_and(frame, frame, mask=mask_inv)\n",
    "                img2_fg = cv2.bitwise_and(result, result, mask=mask)\n",
    "                frame = cv2.add(img1_bg, img2_fg)\n",
    "                frame = cv2.polylines(frame,[np.int32(dst)],True,255,10, cv2.LINE_AA)\n",
    "        \n",
    "        \n",
    "        out.write(frame)\n",
    "        #cv2.imshow('result', frame)\n",
    "        if cv2.waitKey(1000//CADR_PER_SEC) & 0xFF == ord('q'):\n",
    "            break\n",
    "    else:\n",
    "        break\n",
    "\n",
    "cap.release()\n",
    "out.release()\n",
    "cv2.waitKey(0)\n",
    "cv2.destroyAllWindows()"
   ]
  },
  {
   "cell_type": "code",
   "execution_count": null,
   "metadata": {},
   "outputs": [],
   "source": []
  }
 ],
 "metadata": {
  "kernelspec": {
   "display_name": "Python 3",
   "language": "python",
   "name": "python3"
  },
  "language_info": {
   "codemirror_mode": {
    "name": "ipython",
    "version": 3
   },
   "file_extension": ".py",
   "mimetype": "text/x-python",
   "name": "python",
   "nbconvert_exporter": "python",
   "pygments_lexer": "ipython3",
   "version": "3.7.7"
  }
 },
 "nbformat": 4,
 "nbformat_minor": 4
}
